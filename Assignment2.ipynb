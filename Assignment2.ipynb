{
  "nbformat": 4,
  "nbformat_minor": 0,
  "metadata": {
    "colab": {
      "name": "Assignment2.ipynb",
      "provenance": [],
      "collapsed_sections": [],
      "include_colab_link": true
    },
    "kernelspec": {
      "name": "python3",
      "display_name": "Python 3"
    }
  },
  "cells": [
    {
      "cell_type": "markdown",
      "metadata": {
        "id": "view-in-github",
        "colab_type": "text"
      },
      "source": [
        "<a href=\"https://colab.research.google.com/github/lilJdub/-/blob/main/Assignment2.ipynb\" target=\"_parent\"><img src=\"https://colab.research.google.com/assets/colab-badge.svg\" alt=\"Open In Colab\"/></a>"
      ]
    },
    {
      "cell_type": "code",
      "metadata": {
        "id": "9OELh4qogfLt"
      },
      "source": [
        "import numpy as np \r\n",
        "import keras \r\n",
        "from keras.models import Sequential\r\n",
        "from keras.datasets import mnist\r\n",
        "from keras.layers import Dense, Dropout, Activation, Flatten\r\n",
        "from keras.utils import np_utils\r\n",
        "from matplotlib import pyplot as plt\r\n",
        "import pandas as pd\r\n",
        "import tensorflow as tf\r\n",
        "from google.colab import files\r\n",
        "import io\r\n"
      ],
      "execution_count": 4,
      "outputs": []
    },
    {
      "cell_type": "code",
      "metadata": {
        "colab": {
          "resources": {
            "http://localhost:8080/nbextensions/google.colab/files.js": {
              "data": "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",
              "ok": true,
              "headers": [
                [
                  "content-type",
                  "application/javascript"
                ]
              ],
              "status": 200,
              "status_text": ""
            }
          },
          "base_uri": "https://localhost:8080/",
          "height": 310
        },
        "id": "YeKdyNutgfxu",
        "outputId": "6f94cab1-d156-44fd-8b8a-a79aff30331d"
      },
      "source": [
        "uploaded = files.upload()\r\n",
        "df = pd.read_csv(io.BytesIO(uploaded['train_all.csv']))\r\n",
        "print(df)"
      ],
      "execution_count": 14,
      "outputs": [
        {
          "output_type": "display_data",
          "data": {
            "text/html": [
              "\n",
              "     <input type=\"file\" id=\"files-79e443c3-b79f-4ea1-9634-118b8f0daf7f\" name=\"files[]\" multiple disabled\n",
              "        style=\"border:none\" />\n",
              "     <output id=\"result-79e443c3-b79f-4ea1-9634-118b8f0daf7f\">\n",
              "      Upload widget is only available when the cell has been executed in the\n",
              "      current browser session. Please rerun this cell to enable.\n",
              "      </output>\n",
              "      <script src=\"/nbextensions/google.colab/files.js\"></script> "
            ],
            "text/plain": [
              "<IPython.core.display.HTML object>"
            ]
          },
          "metadata": {
            "tags": []
          }
        },
        {
          "output_type": "stream",
          "text": [
            "Saving train_all.csv to train_all (1).csv\n",
            "     -0.002389937  -0.002091195  0.00100952  ...  0.001010757  0.000983676  -1\n",
            "0       -0.002484     -0.002170    0.000752  ...     0.001013     0.000981  -1\n",
            "1       -0.002752     -0.002469    0.000998  ...     0.001038     0.000988  -1\n",
            "2       -0.002925     -0.002657    0.001240  ...     0.001069     0.001009   1\n",
            "3       -0.003050     -0.002783    0.001476  ...     0.001051     0.001009   1\n",
            "4       -0.002720     -0.002563    0.001219  ...     0.001028     0.001006   1\n",
            "..            ...           ...         ...  ...          ...          ...  ..\n",
            "474     -0.001887     -0.001211    0.000661  ...     0.001134     0.001385   1\n",
            "475     -0.001840     -0.001211    0.000724  ...     0.001229     0.001433   1\n",
            "476     -0.002028     -0.001431    0.000122  ...     0.001356     0.001481   1\n",
            "477     -0.001761     -0.001289    0.000528  ...     0.001439     0.001572   1\n",
            "478     -0.001698     -0.001352    0.000317  ...     0.001285     0.001546   1\n",
            "\n",
            "[479 rows x 13 columns]\n"
          ],
          "name": "stdout"
        }
      ]
    },
    {
      "cell_type": "code",
      "metadata": {
        "colab": {
          "base_uri": "https://localhost:8080/"
        },
        "id": "m02FydvLgrrP",
        "outputId": "1b34c1f0-3335-4427-e55a-938f4e1a3c49"
      },
      "source": [
        "dataset = df.values\r\n",
        "print(dataset)"
      ],
      "execution_count": 24,
      "outputs": [
        {
          "output_type": "stream",
          "text": [
            "[[-2.484277e-03 -2.169811e-03  7.523100e-04 ...  1.013102e-03\n",
            "   9.806900e-04 -1.000000e+00]\n",
            " [-2.751572e-03 -2.468553e-03  9.983030e-04 ...  1.038154e-03\n",
            "   9.883500e-04 -1.000000e+00]\n",
            " [-2.924528e-03 -2.657233e-03  1.240006e-03 ...  1.069025e-03\n",
            "   1.008567e-03  1.000000e+00]\n",
            " ...\n",
            " [-2.028302e-03 -1.430818e-03  1.218850e-04 ...  1.356135e-03\n",
            "   1.481274e-03  1.000000e+00]\n",
            " [-1.761006e-03 -1.289308e-03  5.279710e-04 ...  1.439037e-03\n",
            "   1.572327e-03  1.000000e+00]\n",
            " [-1.698113e-03 -1.352201e-03  3.171210e-04 ...  1.285156e-03\n",
            "   1.545728e-03  1.000000e+00]]\n"
          ],
          "name": "stdout"
        }
      ]
    },
    {
      "cell_type": "code",
      "metadata": {
        "id": "nIbv78xGozd4"
      },
      "source": [
        "X = dataset[:,0:12]\r\n",
        "Y = dataset[:,12:13]\r\n",
        "from sklearn import preprocessing\r\n",
        "sc = preprocessing.StandardScaler()\r\n",
        "X = sc.fit_transform(X)\r\n",
        "\r\n",
        "\r\n",
        "from sklearn.preprocessing import StandardScaler\r\n",
        "sc = StandardScaler()\r\n",
        "X = sc.fit_transform(X)\r\n",
        "\r\n",
        "from sklearn.preprocessing import OneHotEncoder\r\n",
        "ohe = OneHotEncoder()\r\n",
        "Y = ohe.fit_transform(Y).toarray()"
      ],
      "execution_count": 25,
      "outputs": []
    },
    {
      "cell_type": "code",
      "metadata": {
        "id": "KrTXQ74g0oCB",
        "colab": {
          "base_uri": "https://localhost:8080/"
        },
        "outputId": "3c4e37b6-2a4e-43e6-d8df-85489da0cc56"
      },
      "source": [
        "from sklearn.model_selection import train_test_split\r\n",
        "X_train,X_test,y_train,y_test = train_test_split(X,Y,test_size = 0.1)\r\n",
        "print(X_train.shape,X_test.shape,y_train.shape,y_test.shape)"
      ],
      "execution_count": 26,
      "outputs": [
        {
          "output_type": "stream",
          "text": [
            "(431, 12) (48, 12) (431, 2) (48, 2)\n"
          ],
          "name": "stdout"
        }
      ]
    },
    {
      "cell_type": "code",
      "metadata": {
        "id": "xPsbk-lDsahu"
      },
      "source": [
        "from tensorflow.keras import layers\r\n",
        "from tensorflow.keras import initializers\r\n",
        "from keras.layers import LeakyReLU\r\n",
        "\r\n",
        "# layer = layers.Dense(\r\n",
        "#     units=5,\r\n",
        "#     kernel_initializer=initializers.RandomNormal(stddev=0.01),\r\n",
        "#     bias_initializer=initializers.Zeros()\r\n",
        "# )\r\n",
        "model = Sequential()\r\n",
        "#Dense 代表是 fully connected\r\n",
        "model.add(LeakyReLU(alpha=0.05))\r\n",
        "model.add(Dense(5, input_dim=12,kernel_initializer=initializers.RandomNormal(stddev=0.01), ))\r\n",
        "#mean：均值 stddev：標準差 seed：隨機數種子\r\n",
        "model.add(Dense(2))\r\n",
        "#output layer has 2 nodes\r\n"
      ],
      "execution_count": 29,
      "outputs": []
    },
    {
      "cell_type": "code",
      "metadata": {
        "id": "1CzWKubJutXy"
      },
      "source": [
        "op = keras.optimizers.SGD(learning_rate=0.0009)\r\n",
        "model.compile(loss='binary_crossentropy', optimizer=op, metrics=['accuracy'])"
      ],
      "execution_count": 30,
      "outputs": []
    },
    {
      "cell_type": "code",
      "metadata": {
        "colab": {
          "base_uri": "https://localhost:8080/"
        },
        "id": "wkw0c5U8xoC7",
        "outputId": "dd9372f1-0cb3-4f02-983a-59eb93f25150"
      },
      "source": [
        "history = model.fit(X_train, y_train, epochs=130, batch_size=64)"
      ],
      "execution_count": 31,
      "outputs": [
        {
          "output_type": "stream",
          "text": [
            "Epoch 1/130\n",
            "7/7 [==============================] - 0s 2ms/step - loss: 2.4937 - accuracy: 0.6589\n",
            "Epoch 2/130\n",
            "7/7 [==============================] - 0s 1ms/step - loss: 0.7799 - accuracy: 0.8013\n",
            "Epoch 3/130\n",
            "7/7 [==============================] - 0s 2ms/step - loss: 0.7261 - accuracy: 0.8003\n",
            "Epoch 4/130\n",
            "7/7 [==============================] - 0s 2ms/step - loss: 0.6983 - accuracy: 0.7917\n",
            "Epoch 5/130\n",
            "7/7 [==============================] - 0s 2ms/step - loss: 0.6678 - accuracy: 0.8042\n",
            "Epoch 6/130\n",
            "7/7 [==============================] - 0s 2ms/step - loss: 0.6657 - accuracy: 0.7864\n",
            "Epoch 7/130\n",
            "7/7 [==============================] - 0s 2ms/step - loss: 0.6268 - accuracy: 0.8067\n",
            "Epoch 8/130\n",
            "7/7 [==============================] - 0s 2ms/step - loss: 0.6319 - accuracy: 0.7829\n",
            "Epoch 9/130\n",
            "7/7 [==============================] - 0s 1ms/step - loss: 0.6115 - accuracy: 0.7900\n",
            "Epoch 10/130\n",
            "7/7 [==============================] - 0s 1ms/step - loss: 0.5912 - accuracy: 0.8033\n",
            "Epoch 11/130\n",
            "7/7 [==============================] - 0s 1ms/step - loss: 0.5753 - accuracy: 0.8071\n",
            "Epoch 12/130\n",
            "7/7 [==============================] - 0s 2ms/step - loss: 0.5919 - accuracy: 0.7895\n",
            "Epoch 13/130\n",
            "7/7 [==============================] - 0s 2ms/step - loss: 0.5812 - accuracy: 0.7887\n",
            "Epoch 14/130\n",
            "7/7 [==============================] - 0s 2ms/step - loss: 0.5753 - accuracy: 0.7878\n",
            "Epoch 15/130\n",
            "7/7 [==============================] - 0s 2ms/step - loss: 0.5568 - accuracy: 0.8062\n",
            "Epoch 16/130\n",
            "7/7 [==============================] - 0s 2ms/step - loss: 0.5505 - accuracy: 0.8021\n",
            "Epoch 17/130\n",
            "7/7 [==============================] - 0s 3ms/step - loss: 0.5425 - accuracy: 0.8007\n",
            "Epoch 18/130\n",
            "7/7 [==============================] - 0s 2ms/step - loss: 0.5029 - accuracy: 0.8408\n",
            "Epoch 19/130\n",
            "7/7 [==============================] - 0s 2ms/step - loss: 0.5575 - accuracy: 0.7834\n",
            "Epoch 20/130\n",
            "7/7 [==============================] - 0s 2ms/step - loss: 0.5309 - accuracy: 0.8043\n",
            "Epoch 21/130\n",
            "7/7 [==============================] - 0s 2ms/step - loss: 0.5450 - accuracy: 0.7871\n",
            "Epoch 22/130\n",
            "7/7 [==============================] - 0s 2ms/step - loss: 0.5389 - accuracy: 0.7922\n",
            "Epoch 23/130\n",
            "7/7 [==============================] - 0s 2ms/step - loss: 0.5195 - accuracy: 0.8084\n",
            "Epoch 24/130\n",
            "7/7 [==============================] - 0s 2ms/step - loss: 0.5005 - accuracy: 0.8234\n",
            "Epoch 25/130\n",
            "7/7 [==============================] - 0s 2ms/step - loss: 0.5053 - accuracy: 0.8159\n",
            "Epoch 26/130\n",
            "7/7 [==============================] - 0s 2ms/step - loss: 0.5301 - accuracy: 0.7903\n",
            "Epoch 27/130\n",
            "7/7 [==============================] - 0s 2ms/step - loss: 0.5186 - accuracy: 0.7963\n",
            "Epoch 28/130\n",
            "7/7 [==============================] - 0s 2ms/step - loss: 0.5258 - accuracy: 0.7927\n",
            "Epoch 29/130\n",
            "7/7 [==============================] - 0s 2ms/step - loss: 0.5256 - accuracy: 0.7828\n",
            "Epoch 30/130\n",
            "7/7 [==============================] - 0s 2ms/step - loss: 0.5232 - accuracy: 0.7969\n",
            "Epoch 31/130\n",
            "7/7 [==============================] - 0s 2ms/step - loss: 0.5288 - accuracy: 0.7966\n",
            "Epoch 32/130\n",
            "7/7 [==============================] - 0s 2ms/step - loss: 0.5427 - accuracy: 0.7711\n",
            "Epoch 33/130\n",
            "7/7 [==============================] - 0s 2ms/step - loss: 0.5269 - accuracy: 0.7820\n",
            "Epoch 34/130\n",
            "7/7 [==============================] - 0s 2ms/step - loss: 0.4991 - accuracy: 0.8055\n",
            "Epoch 35/130\n",
            "7/7 [==============================] - 0s 2ms/step - loss: 0.4955 - accuracy: 0.8174\n",
            "Epoch 36/130\n",
            "7/7 [==============================] - 0s 2ms/step - loss: 0.5369 - accuracy: 0.7696\n",
            "Epoch 37/130\n",
            "7/7 [==============================] - 0s 1ms/step - loss: 0.5149 - accuracy: 0.7899\n",
            "Epoch 38/130\n",
            "7/7 [==============================] - 0s 2ms/step - loss: 0.4852 - accuracy: 0.8203\n",
            "Epoch 39/130\n",
            "7/7 [==============================] - 0s 2ms/step - loss: 0.4819 - accuracy: 0.8141\n",
            "Epoch 40/130\n",
            "7/7 [==============================] - 0s 2ms/step - loss: 0.4843 - accuracy: 0.8150\n",
            "Epoch 41/130\n",
            "7/7 [==============================] - 0s 2ms/step - loss: 0.5072 - accuracy: 0.7900\n",
            "Epoch 42/130\n",
            "7/7 [==============================] - 0s 2ms/step - loss: 0.4925 - accuracy: 0.8039\n",
            "Epoch 43/130\n",
            "7/7 [==============================] - 0s 2ms/step - loss: 0.4765 - accuracy: 0.8151\n",
            "Epoch 44/130\n",
            "7/7 [==============================] - 0s 2ms/step - loss: 0.4860 - accuracy: 0.8057\n",
            "Epoch 45/130\n",
            "7/7 [==============================] - 0s 3ms/step - loss: 0.5183 - accuracy: 0.7742\n",
            "Epoch 46/130\n",
            "7/7 [==============================] - 0s 2ms/step - loss: 0.4996 - accuracy: 0.7947\n",
            "Epoch 47/130\n",
            "7/7 [==============================] - 0s 2ms/step - loss: 0.5043 - accuracy: 0.7827\n",
            "Epoch 48/130\n",
            "7/7 [==============================] - 0s 2ms/step - loss: 0.4794 - accuracy: 0.8072\n",
            "Epoch 49/130\n",
            "7/7 [==============================] - 0s 2ms/step - loss: 0.4632 - accuracy: 0.8273\n",
            "Epoch 50/130\n",
            "7/7 [==============================] - 0s 2ms/step - loss: 0.4873 - accuracy: 0.8074\n",
            "Epoch 51/130\n",
            "7/7 [==============================] - 0s 2ms/step - loss: 0.4833 - accuracy: 0.8019\n",
            "Epoch 52/130\n",
            "7/7 [==============================] - 0s 1ms/step - loss: 0.4917 - accuracy: 0.7955\n",
            "Epoch 53/130\n",
            "7/7 [==============================] - 0s 2ms/step - loss: 0.4802 - accuracy: 0.8055\n",
            "Epoch 54/130\n",
            "7/7 [==============================] - 0s 2ms/step - loss: 0.4824 - accuracy: 0.8073\n",
            "Epoch 55/130\n",
            "7/7 [==============================] - 0s 2ms/step - loss: 0.4764 - accuracy: 0.8133\n",
            "Epoch 56/130\n",
            "7/7 [==============================] - 0s 2ms/step - loss: 0.4733 - accuracy: 0.8010\n",
            "Epoch 57/130\n",
            "7/7 [==============================] - 0s 2ms/step - loss: 0.4717 - accuracy: 0.8017\n",
            "Epoch 58/130\n",
            "7/7 [==============================] - 0s 2ms/step - loss: 0.4599 - accuracy: 0.8105\n",
            "Epoch 59/130\n",
            "7/7 [==============================] - 0s 2ms/step - loss: 0.4611 - accuracy: 0.8110\n",
            "Epoch 60/130\n",
            "7/7 [==============================] - 0s 2ms/step - loss: 0.4810 - accuracy: 0.7976\n",
            "Epoch 61/130\n",
            "7/7 [==============================] - 0s 2ms/step - loss: 0.4629 - accuracy: 0.8045\n",
            "Epoch 62/130\n",
            "7/7 [==============================] - 0s 2ms/step - loss: 0.4530 - accuracy: 0.8148\n",
            "Epoch 63/130\n",
            "7/7 [==============================] - 0s 2ms/step - loss: 0.4659 - accuracy: 0.8091\n",
            "Epoch 64/130\n",
            "7/7 [==============================] - 0s 2ms/step - loss: 0.4448 - accuracy: 0.8215\n",
            "Epoch 65/130\n",
            "7/7 [==============================] - 0s 2ms/step - loss: 0.4745 - accuracy: 0.8019\n",
            "Epoch 66/130\n",
            "7/7 [==============================] - 0s 2ms/step - loss: 0.4643 - accuracy: 0.8077\n",
            "Epoch 67/130\n",
            "7/7 [==============================] - 0s 2ms/step - loss: 0.4433 - accuracy: 0.8228\n",
            "Epoch 68/130\n",
            "7/7 [==============================] - 0s 2ms/step - loss: 0.4537 - accuracy: 0.8132\n",
            "Epoch 69/130\n",
            "7/7 [==============================] - 0s 1ms/step - loss: 0.4690 - accuracy: 0.8025\n",
            "Epoch 70/130\n",
            "7/7 [==============================] - 0s 1ms/step - loss: 0.4748 - accuracy: 0.7976\n",
            "Epoch 71/130\n",
            "7/7 [==============================] - 0s 2ms/step - loss: 0.4692 - accuracy: 0.8005\n",
            "Epoch 72/130\n",
            "7/7 [==============================] - 0s 2ms/step - loss: 0.4514 - accuracy: 0.8040\n",
            "Epoch 73/130\n",
            "7/7 [==============================] - 0s 2ms/step - loss: 0.4758 - accuracy: 0.7929\n",
            "Epoch 74/130\n",
            "7/7 [==============================] - 0s 2ms/step - loss: 0.4475 - accuracy: 0.8180\n",
            "Epoch 75/130\n",
            "7/7 [==============================] - 0s 2ms/step - loss: 0.4771 - accuracy: 0.7927\n",
            "Epoch 76/130\n",
            "7/7 [==============================] - 0s 2ms/step - loss: 0.4628 - accuracy: 0.8025\n",
            "Epoch 77/130\n",
            "7/7 [==============================] - 0s 2ms/step - loss: 0.4610 - accuracy: 0.7981\n",
            "Epoch 78/130\n",
            "7/7 [==============================] - 0s 2ms/step - loss: 0.4352 - accuracy: 0.8228\n",
            "Epoch 79/130\n",
            "7/7 [==============================] - 0s 2ms/step - loss: 0.4609 - accuracy: 0.7993\n",
            "Epoch 80/130\n",
            "7/7 [==============================] - 0s 2ms/step - loss: 0.4542 - accuracy: 0.8114\n",
            "Epoch 81/130\n",
            "7/7 [==============================] - 0s 2ms/step - loss: 0.4633 - accuracy: 0.7950\n",
            "Epoch 82/130\n",
            "7/7 [==============================] - 0s 2ms/step - loss: 0.4637 - accuracy: 0.7960\n",
            "Epoch 83/130\n",
            "7/7 [==============================] - 0s 2ms/step - loss: 0.4830 - accuracy: 0.7835\n",
            "Epoch 84/130\n",
            "7/7 [==============================] - 0s 2ms/step - loss: 0.4345 - accuracy: 0.8118\n",
            "Epoch 85/130\n",
            "7/7 [==============================] - 0s 2ms/step - loss: 0.4640 - accuracy: 0.7994\n",
            "Epoch 86/130\n",
            "7/7 [==============================] - 0s 2ms/step - loss: 0.4242 - accuracy: 0.8206\n",
            "Epoch 87/130\n",
            "7/7 [==============================] - 0s 2ms/step - loss: 0.4479 - accuracy: 0.8039\n",
            "Epoch 88/130\n",
            "7/7 [==============================] - 0s 2ms/step - loss: 0.4430 - accuracy: 0.8081\n",
            "Epoch 89/130\n",
            "7/7 [==============================] - 0s 3ms/step - loss: 0.4670 - accuracy: 0.7929\n",
            "Epoch 90/130\n",
            "7/7 [==============================] - 0s 2ms/step - loss: 0.4541 - accuracy: 0.8016\n",
            "Epoch 91/130\n",
            "7/7 [==============================] - 0s 2ms/step - loss: 0.4850 - accuracy: 0.7761\n",
            "Epoch 92/130\n",
            "7/7 [==============================] - 0s 2ms/step - loss: 0.4389 - accuracy: 0.8099\n",
            "Epoch 93/130\n",
            "7/7 [==============================] - 0s 2ms/step - loss: 0.4436 - accuracy: 0.8071\n",
            "Epoch 94/130\n",
            "7/7 [==============================] - 0s 2ms/step - loss: 0.4419 - accuracy: 0.8095\n",
            "Epoch 95/130\n",
            "7/7 [==============================] - 0s 2ms/step - loss: 0.4775 - accuracy: 0.7776\n",
            "Epoch 96/130\n",
            "7/7 [==============================] - 0s 2ms/step - loss: 0.4557 - accuracy: 0.7888\n",
            "Epoch 97/130\n",
            "7/7 [==============================] - 0s 2ms/step - loss: 0.4313 - accuracy: 0.8200\n",
            "Epoch 98/130\n",
            "7/7 [==============================] - 0s 2ms/step - loss: 0.4477 - accuracy: 0.7985\n",
            "Epoch 99/130\n",
            "7/7 [==============================] - 0s 2ms/step - loss: 0.4643 - accuracy: 0.7904\n",
            "Epoch 100/130\n",
            "7/7 [==============================] - 0s 2ms/step - loss: 0.4481 - accuracy: 0.8021\n",
            "Epoch 101/130\n",
            "7/7 [==============================] - 0s 2ms/step - loss: 0.4566 - accuracy: 0.7947\n",
            "Epoch 102/130\n",
            "7/7 [==============================] - 0s 2ms/step - loss: 0.4651 - accuracy: 0.7880\n",
            "Epoch 103/130\n",
            "7/7 [==============================] - 0s 2ms/step - loss: 0.4582 - accuracy: 0.7930\n",
            "Epoch 104/130\n",
            "7/7 [==============================] - 0s 2ms/step - loss: 0.4571 - accuracy: 0.7912\n",
            "Epoch 105/130\n",
            "7/7 [==============================] - 0s 2ms/step - loss: 0.4216 - accuracy: 0.8177\n",
            "Epoch 106/130\n",
            "7/7 [==============================] - 0s 2ms/step - loss: 0.4431 - accuracy: 0.7991\n",
            "Epoch 107/130\n",
            "7/7 [==============================] - 0s 2ms/step - loss: 0.4513 - accuracy: 0.7987\n",
            "Epoch 108/130\n",
            "7/7 [==============================] - 0s 2ms/step - loss: 0.4384 - accuracy: 0.8066\n",
            "Epoch 109/130\n",
            "7/7 [==============================] - 0s 2ms/step - loss: 0.4435 - accuracy: 0.7932\n",
            "Epoch 110/130\n",
            "7/7 [==============================] - 0s 2ms/step - loss: 0.4324 - accuracy: 0.8056\n",
            "Epoch 111/130\n",
            "7/7 [==============================] - 0s 2ms/step - loss: 0.4677 - accuracy: 0.7768\n",
            "Epoch 112/130\n",
            "7/7 [==============================] - 0s 2ms/step - loss: 0.4290 - accuracy: 0.8156\n",
            "Epoch 113/130\n",
            "7/7 [==============================] - 0s 2ms/step - loss: 0.4467 - accuracy: 0.7954\n",
            "Epoch 114/130\n",
            "7/7 [==============================] - 0s 2ms/step - loss: 0.4263 - accuracy: 0.8126\n",
            "Epoch 115/130\n",
            "7/7 [==============================] - 0s 1ms/step - loss: 0.4568 - accuracy: 0.7820\n",
            "Epoch 116/130\n",
            "7/7 [==============================] - 0s 1ms/step - loss: 0.4386 - accuracy: 0.8047\n",
            "Epoch 117/130\n",
            "7/7 [==============================] - 0s 2ms/step - loss: 0.4385 - accuracy: 0.8083\n",
            "Epoch 118/130\n",
            "7/7 [==============================] - 0s 1ms/step - loss: 0.4500 - accuracy: 0.7873\n",
            "Epoch 119/130\n",
            "7/7 [==============================] - 0s 3ms/step - loss: 0.4209 - accuracy: 0.8105\n",
            "Epoch 120/130\n",
            "7/7 [==============================] - 0s 2ms/step - loss: 0.4395 - accuracy: 0.8017\n",
            "Epoch 121/130\n",
            "7/7 [==============================] - 0s 1ms/step - loss: 0.4485 - accuracy: 0.7959\n",
            "Epoch 122/130\n",
            "7/7 [==============================] - 0s 2ms/step - loss: 0.4385 - accuracy: 0.7948\n",
            "Epoch 123/130\n",
            "7/7 [==============================] - 0s 2ms/step - loss: 0.4356 - accuracy: 0.8035\n",
            "Epoch 124/130\n",
            "7/7 [==============================] - 0s 2ms/step - loss: 0.4347 - accuracy: 0.7942\n",
            "Epoch 125/130\n",
            "7/7 [==============================] - 0s 2ms/step - loss: 0.4255 - accuracy: 0.8121\n",
            "Epoch 126/130\n",
            "7/7 [==============================] - 0s 2ms/step - loss: 0.4464 - accuracy: 0.7948\n",
            "Epoch 127/130\n",
            "7/7 [==============================] - 0s 1ms/step - loss: 0.4276 - accuracy: 0.7967\n",
            "Epoch 128/130\n",
            "7/7 [==============================] - 0s 2ms/step - loss: 0.4405 - accuracy: 0.7959\n",
            "Epoch 129/130\n",
            "7/7 [==============================] - 0s 2ms/step - loss: 0.4327 - accuracy: 0.7881\n",
            "Epoch 130/130\n",
            "7/7 [==============================] - 0s 2ms/step - loss: 0.4514 - accuracy: 0.7863\n"
          ],
          "name": "stdout"
        }
      ]
    },
    {
      "cell_type": "code",
      "metadata": {
        "colab": {
          "base_uri": "https://localhost:8080/",
          "height": 573
        },
        "id": "xLyEkjNc82Jr",
        "outputId": "903de311-e083-4a8f-8227-d9b488bf4b04"
      },
      "source": [
        "import matplotlib.pyplot as plt\r\n",
        "plt.plot(history.history['loss'])\r\n",
        "plt.title('Model loss')\r\n",
        "plt.ylabel('Loss')\r\n",
        "plt.xlabel('Epoch')\r\n",
        "plt.legend(['Train', 'Val'], loc='upper right')\r\n",
        "plt.show()\r\n",
        "plt.plot(history.history['accuracy'])\r\n",
        "plt.title('Model accuracy')\r\n",
        "plt.ylabel('Accuracy')\r\n",
        "plt.xlabel('Epoch')\r\n",
        "plt.legend(['Train', 'Val'], loc='lower right')\r\n",
        "plt.show()"
      ],
      "execution_count": 32,
      "outputs": [
        {
          "output_type": "display_data",
          "data": {
            "image/png": "[encoded data removed]",
            "text/plain": [
              "<Figure size 432x288 with 1 Axes>"
            ]
          },
          "metadata": {
            "tags": [],
            "needs_background": "light"
          }
        },
        {
          "output_type": "display_data",
          "data": {
            "image/png": "[encoded data removed]",
            "text/plain": [
              "<Figure size 432x288 with 1 Axes>"
            ]
          },
          "metadata": {
            "tags": [],
            "needs_background": "light"
          }
        }
      ]
    },
    {
      "cell_type": "code",
      "metadata": {
        "colab": {
          "base_uri": "https://localhost:8080/"
        },
        "id": "byVAZ_zhwx88",
        "outputId": "f7c9430b-5c22-4505-fe97-712b065c735e"
      },
      "source": [
        "model.evaluate(X_test, y_test)[1]\r\n",
        "#評估準確度 [1]=accuracy [0]=loss\r\n",
        "#print(X_train.shape,X_test.shape,y_train.shape,y_test.shape)"
      ],
      "execution_count": 33,
      "outputs": [
        {
          "output_type": "stream",
          "text": [
            "2/2 [==============================] - 0s 4ms/step - loss: 0.3841 - accuracy: 0.8542\n"
          ],
          "name": "stdout"
        },
        {
          "output_type": "execute_result",
          "data": {
            "text/plain": [
              "0.8541666865348816"
            ]
          },
          "metadata": {
            "tags": []
          },
          "execution_count": 33
        }
      ]
    }
  ]
}