{
  "nbformat": 4,
  "nbformat_minor": 0,
  "metadata": {
    "colab": {
      "provenance": [],
      "collapsed_sections": [],
      "authorship_tag": "ABX9TyM7v7J2YXS7+TepaSpCPqNu",
      "include_colab_link": true
    },
    "kernelspec": {
      "name": "python3",
      "display_name": "Python 3"
    },
    "language_info": {
      "name": "python"
    }
  },
  "cells": [
    {
      "cell_type": "markdown",
      "metadata": {
        "id": "view-in-github",
        "colab_type": "text"
      },
      "source": [
        "<a href=\"https://colab.research.google.com/github/lilJdub/-/blob/main/%E6%B1%BA%E7%AD%96%E7%A7%91%E5%AD%B8HW2.ipynb\" target=\"_parent\"><img src=\"https://colab.research.google.com/assets/colab-badge.svg\" alt=\"Open In Colab\"/></a>"
      ]
    },
    {
      "cell_type": "code",
      "source": [
        "import math\n",
        "from numpy import random\n",
        "from random import randint\n",
        "from scipy import stats\n",
        "import numpy as np\n",
        "import matplotlib.pyplot as plt\n",
        "from statistics import mean\n",
        "from scipy.linalg import cholesky\n",
        "from numpy.random import multivariate_normal"
      ],
      "metadata": {
        "id": "9nc8VXIWeu87"
      },
      "execution_count": null,
      "outputs": []
    },
    {
      "cell_type": "markdown",
      "source": [
        "**Q1: Suppose a fraction 17% of the microchips produced by a leading manufacturer is \n",
        "defective. For the manufacturer, the number of microchips delivered to its client depends on \n",
        "how many microchips are inspected and accepted by 50 inspectors in the factory. Historically, \n",
        "given that a microchip is defective, an inspector wrongly accepts the chip 10% of the time, \n",
        "thinking it has no defect. If a microchip is not defective, an inspector, however, wrongly \n",
        "rejects the chip 5% of the time. In general, each of the 50 inspectors can inspect 20 chips per \n",
        "hour in a working day of 8 hours (lunch break NOT included in the 8 hours). \n",
        "Use the binomial distribution and whatever functions needed in Python to write a \n",
        "simulation program for the case above. In a working day, the microchips delivered to the \n",
        "client contain some good ones (correctly accepted) and some bad ones. In your simulation \n",
        "program, calculate the ratio of good ones to the sum of good and bad ones. The simulation \n",
        "program should be a function called dailychips. The function must return: \n",
        "1) the daily number of delivered chips (that is random) \n",
        "2) the daily ratio of good ones mentioned above. \n",
        " Simulate the daily operations for 1,000 runs and answer the following questions.**"
      ],
      "metadata": {
        "id": "NcV_GwkK2Ym6"
      }
    },
    {
      "cell_type": "markdown",
      "source": [
        "**The simulation program should be a function called dailychips. The function must return:\n",
        "1) the daily number of delivered chips (that is random)\n",
        "2) the daily ratio of good ones mentioned above.**"
      ],
      "metadata": {
        "id": "YFSiA-kCc4ls"
      }
    },
    {
      "cell_type": "code",
      "execution_count": null,
      "metadata": {
        "id": "bPYc7HjfcpCI"
      },
      "outputs": [],
      "source": [
        "def dailyChips():\n",
        "  quality=[\"defect\",\"nonDefect\"]\n",
        "  #一天最多可以檢查20個*8小時*50個檢查員=8000\n",
        "  #回傳0~8000的random整數\n",
        "  numbersDelivered=random.randint(1,8000)\n",
        "  manufactureQuality=np.random.choice(quality,numbersDelivered,p=[0.17,0.83])\n",
        "  nonDefected=np.where(manufactureQuality==\"nonDefect\")[0]\n",
        "  #良率\n",
        "  dailyRatio=len(nonDefected)/numbersDelivered\n",
        "  return numbersDelivered,dailyRatio"
      ]
    },
    {
      "cell_type": "markdown",
      "source": [
        "Simulate the daily operations for 1,000 runs and answer the following questions.\n",
        "(a) The manufacturer claims that the everyday chips delivered to its client has at least 98% good ones. What is the probability that such a claim is true?\n",
        "(b) What is the probability that the manufacturer can deliver 6,400 microchips accepted by its inspectors in a typical working day of 8 hours? "
      ],
      "metadata": {
        "id": "JIqL9BLIi_K7"
      }
    },
    {
      "cell_type": "code",
      "source": [
        "S=1000\n",
        "c=[]\n",
        "g=[]\n",
        "mistake=[\"mistaken\",\"nonMistaken\"]\n",
        "for s in range(S):\n",
        "  x=dailyChips()\n",
        "  nonDefect=int(x[0]*x[1])\n",
        "  defect=x[0]-nonDefect\n",
        "\n",
        "  #良但被當成不良:\n",
        "  ndm=np.random.choice(mistake,nonDefect,p=[0.05,0.95])\n",
        "  nonDMistaken=len(np.where(ndm==\"mistaken\")[0])\n",
        "\n",
        "  #不良但被當成良:\n",
        "  dm=np.random.choice(mistake,defect,p=[0.10,0.90])\n",
        "  defectMistaken=len(np.where(dm==\"mistaken\")[0])\n",
        "\n",
        "  chosenGoodOnes=nonDefect-nonDMistaken+defectMistaken\n",
        "  \"\"\"\n",
        "  a)The probability that 98% good ones is true?\n",
        "  \"\"\"\n",
        "  prob=1-(defectMistaken/chosenGoodOnes)\n",
        "  if prob>0.98:\n",
        "    c.append(\"T\")\n",
        "  else:\n",
        "    c.append(\"F\")\n",
        "  \"\"\"\n",
        "   (b) What is the probability that the manufacturer can deliver 6,400 microchips \n",
        "   accepted by its inspectors in a typical working day of 8 hours?\n",
        "  \"\"\"\n",
        "  if chosenGoodOnes>=6400:\n",
        "    g.append(\"T\")\n",
        "  else:\n",
        "    g.append(\"F\")\n",
        "print(chosenGoodOnes)\n",
        "#ans:A\n",
        "claims=np.asarray(c)\n",
        "totalclaim=np.where(claims==\"T\")[0]\n",
        "print(len(totalclaim)/len(claims))\n",
        "#ans:B\n",
        "deliver=np.asarray(g)\n",
        "totalDelivered=np.where(deliver==\"T\")[0]\n",
        "print(len(totalDelivered)/1000)"
      ],
      "metadata": {
        "colab": {
          "base_uri": "https://localhost:8080/"
        },
        "id": "CRGqEzx1jRm_",
        "outputId": "733c0f27-961d-4ec5-f4e4-05ef06299e4f"
      },
      "execution_count": null,
      "outputs": [
        {
          "output_type": "stream",
          "name": "stdout",
          "text": [
            "2846\n",
            "0.357\n",
            "0.009\n"
          ]
        }
      ]
    },
    {
      "cell_type": "markdown",
      "source": [
        "**Q2 : Use the dailychips function in Q1 to simulate montlychips and quarterlychips. The monthlychips is the sum of delivered chips over 30 days, whereas the quarterlychips is the sum of delivered chips over 90 days respectively. Ignore good ratios in the two cases and focus on the number of delivered chips over 30 and 90 days.\n",
        "Generate 1,000 random samples for the two numbers (montly and quarterly) of delivered chips.**"
      ],
      "metadata": {
        "id": "lnh9hMxcSGJB"
      }
    },
    {
      "cell_type": "code",
      "source": [
        "#simulation存這\n",
        "cpAnswer=[]\n",
        "\n",
        "def chipsProduced():\n",
        "  monthlyChips=0\n",
        "  quarterlyChips=0\n",
        "  for i in range(1,91):\n",
        "    if(i<=30):\n",
        "      monthlyChips+=dailyChips()[0]\n",
        "      quarterlyChips+=dailyChips()[0]\n",
        "    else:\n",
        "      quarterlyChips+=dailyChips()[0]\n",
        "  return(monthlyChips,quarterlyChips)\n",
        "\n",
        "#Sim for 1000 times\n",
        "for s in range(100):\n",
        "  cp=chipsProduced()\n",
        "  cpAnswer.append(cp)"
      ],
      "metadata": {
        "id": "IZ9dblD0Sh2m"
      },
      "execution_count": null,
      "outputs": []
    },
    {
      "cell_type": "markdown",
      "source": [
        "**Generate the hist function in matplotlib (set bins=20 or bigger) of the simulated montlychips and quarterlychips. Do they look like normal distributions?**"
      ],
      "metadata": {
        "id": "7xGidfDPVxB_"
      }
    },
    {
      "cell_type": "code",
      "source": [
        "print(cpAnswer)\n",
        "mc=[]\n",
        "qc=[]\n",
        "for s in cpAnswer:\n",
        "  mc.append(s[0])\n",
        "  qc.append(s[1])\n",
        "plt.hist(mc)\n",
        "plt.hist(qc)"
      ],
      "metadata": {
        "id": "Y7oO3QKoWhqh",
        "colab": {
          "base_uri": "https://localhost:8080/",
          "height": 372
        },
        "outputId": "624d90fd-eb57-4c2b-d4fd-d0dfde6c817e"
      },
      "execution_count": null,
      "outputs": [
        {
          "output_type": "stream",
          "name": "stdout",
          "text": [
            "[(119775, 347695), (110072, 369692), (115325, 316854), (102776, 334491), (117768, 363988), (118011, 390471), (147203, 350193), (120731, 392128), (114817, 343566), (119003, 393658), (131881, 338947), (115331, 350766), (150796, 360856), (132414, 378397), (129701, 385285), (113834, 361052), (112665, 354754), (115063, 344779), (110792, 345221), (128611, 379771), (117550, 348381), (114121, 392644), (118326, 347424), (109111, 383466), (141385, 357904), (129115, 416738), (90934, 372812), (99793, 348416), (113644, 374732), (128951, 337288), (112008, 359121), (90959, 359937), (115240, 319407), (113957, 356833), (111695, 342666), (105829, 365679), (111247, 349040), (93106, 362411), (119519, 372440), (104285, 374889), (102018, 334858), (118956, 396030), (131217, 387120), (102829, 335945), (113617, 343952), (106806, 359934), (110323, 373076), (122547, 396378), (113068, 290569), (103299, 377552), (126086, 369917), (125348, 350131), (117288, 318584), (115208, 376240), (119408, 380861), (107480, 348429), (118549, 380657), (130024, 354287), (134054, 350306), (110831, 331100), (124085, 356986), (129159, 351041), (123728, 361548), (112788, 353382), (130560, 340863), (106680, 303575), (120724, 379711), (131442, 365614), (136053, 371009), (130520, 358007), (121340, 393982), (121297, 351532), (118204, 340458), (134512, 355997), (130326, 351862), (127064, 381159), (108415, 352648), (122651, 335383), (140650, 369484), (121515, 367149), (126927, 355865), (113336, 373054), (124657, 365415), (118212, 346021), (123855, 360346), (135842, 358617), (99227, 318173), (135268, 336640), (127175, 389845), (122539, 361799), (121476, 382931), (103838, 359904), (84274, 323751), (136602, 364967), (122848, 402222), (118952, 363674), (106586, 377043), (124463, 340536), (121287, 362134), (118035, 370960)]\n"
          ]
        },
        {
          "output_type": "execute_result",
          "data": {
            "text/plain": [
              "(array([ 1.,  1.,  5., 11., 21., 26., 16., 11.,  7.,  1.]),\n",
              " array([290569. , 303185.9, 315802.8, 328419.7, 341036.6, 353653.5,\n",
              "        366270.4, 378887.3, 391504.2, 404121.1, 416738. ]),\n",
              " <a list of 10 Patch objects>)"
            ]
          },
          "metadata": {},
          "execution_count": 7
        },
        {
          "output_type": "display_data",
          "data": {
            "text/plain": [
              "<Figure size 432x288 with 1 Axes>"
            ],
            "image/png": "[encoded data removed]"
          },
          "metadata": {
            "needs_background": "light"
          }
        }
      ]
    },
    {
      "cell_type": "markdown",
      "source": [
        "Use the shaprio function in Scipy to examine normality of montlychips and quarterlychips (if \n",
        "p-value<=0.05, reject H0: Normality holds). Do you find any evidence for normality? If yes, \n",
        "can you provide theoretical explanations for that (hint: check chapter 3 for a theorem)?"
      ],
      "metadata": {
        "id": "2UO5MsdazjI2"
      }
    },
    {
      "cell_type": "code",
      "source": [
        "stats.shapiro(mc)"
      ],
      "metadata": {
        "id": "EBjslmUJzkoY",
        "colab": {
          "base_uri": "https://localhost:8080/"
        },
        "outputId": "ef0c4484-9444-469f-a21b-24142a7f947c"
      },
      "execution_count": null,
      "outputs": [
        {
          "output_type": "execute_result",
          "data": {
            "text/plain": [
              "ShapiroResult(statistic=0.9923090934753418, pvalue=0.8431437611579895)"
            ]
          },
          "metadata": {},
          "execution_count": 9
        }
      ]
    },
    {
      "cell_type": "code",
      "source": [
        "stats.shapiro(qc)"
      ],
      "metadata": {
        "colab": {
          "base_uri": "https://localhost:8080/"
        },
        "id": "EwJT76rj63qz",
        "outputId": "51bda1d4-a5e0-482f-9a8b-bb2007948ccf"
      },
      "execution_count": null,
      "outputs": [
        {
          "output_type": "execute_result",
          "data": {
            "text/plain": [
              "ShapiroResult(statistic=0.9895591735839844, pvalue=0.6290500164031982)"
            ]
          },
          "metadata": {},
          "execution_count": 10
        }
      ]
    },
    {
      "cell_type": "markdown",
      "source": [
        "**Q3: Let’s revisit the Conley Fisheries in Lecture 5. Define stochastic demand for cold \n",
        "fish as DGlou triangular (min=4000, max=8000, mode=6000) and DRock triangular (min=4500, \n",
        "max=7500, mode=6000) as. The prices are random PriceGlou Normal(μ=3.5/lb, σ=0.5/lb) and \n",
        "PriceRock Normal(μ=3.65/lb, σ=0.25/lb). Also, corr(PriceGlou, PriceRock) is not zero.In addition, the Conley Fisheries has two boats (each with a full load of 3800 lbs) driven \n",
        "by captain Rick and captain Morty. The daily fraction captured by Risk is a uniform(0.5, 1.0) \n",
        "random variable whereas the daily fraction captured by Morty is a triangular(min=0.5, max=1, \n",
        "mode=0.75) random variable. The day-to-day operating costs for both boats are about $7,200. \n",
        "Being the business analyst of Conley Fisheries, you lay out four possible selling strategies: \n",
        "a) Rick goes to Glou and Morty goes to Rock; b) Rick goes to Rock and Morty goes to Glou; \n",
        "c) Rick and Morty go to Glou; d) Rick and Morty go to Rock. \n",
        "To assess which strategy is more profitable/less risky, write a simulation program that \n",
        "allows one to compute expected profit and CVAR(5%) for the four selling strategies above. \n",
        "After that, please finish the following tasks.**"
      ],
      "metadata": {
        "id": "P6dpAVVHTmY_"
      }
    },
    {
      "cell_type": "code",
      "source": [
        "def correlatedPrice(c):\n",
        "  muGlou=3.5\n",
        "  muRock=3.65\n",
        "  sigmaGlou=0.5\n",
        "  sigmaRock=0.25\n",
        "  correlation=c\n",
        "  sigmaGR=np.array([[sigmaGlou*sigmaGlou,sigmaGlou*sigmaRock*correlation],\n",
        "                    [sigmaGlou*sigmaRock*correlation,sigmaRock*sigmaRock]])\n",
        "  price=multivariate_normal([muGlou,muRock],sigmaGR,1)\n",
        "  return price"
      ],
      "metadata": {
        "id": "2PD79xEY01qS"
      },
      "execution_count": null,
      "outputs": []
    },
    {
      "cell_type": "markdown",
      "source": [
        "**(1) Show a figure where the y-axis is expected profit and x-axis is corr\n",
        "(PriceGlou, PriceRock). \n",
        "For each of the following values in the x-axis: -0.8, -0.6, -0.4, -0.2, 0, 0.2, 0.4, 0.6, and \n",
        "0.8, simulate 10,000 runs respectively. Compute the payoff of the four strategies and plot \n",
        "expected profits. The figure is supposed to show four lines (in different colors and types)**"
      ],
      "metadata": {
        "id": "_zvpGqgVPDpk"
      }
    },
    {
      "cell_type": "code",
      "source": [
        "#Simulations\n",
        "corr=[-0.8,-0.6,-0.4,-0.2,0,0.2,0.4,0.6,0.8]\n",
        "Cvar1,Cvar2,Cvar3,Cvar4=[],[],[],[]\n",
        "P1F,P2F,P3F,P4F=[],[],[],[]\n",
        "C=[]\n",
        "for c in corr:\n",
        "  #四種狀況的陣列\n",
        "  P1,P2,P3,P4=[],[],[],[]\n",
        "  #各跑一萬次\n",
        "  for i in range(10000):\n",
        "    #市場價\n",
        "    x=correlatedPrice(c)\n",
        "    glouPrice=x[0][0]\n",
        "    rockPrice=x[0][1]\n",
        "    #需求量\n",
        "    DGlou=random.triangular(4000,6000,8000)\n",
        "    DRock=random.triangular(4500,6000,7500)\n",
        "    #捕撈量\n",
        "    rick=3800*random.uniform(0.5,1.0,1)[0]\n",
        "    morty=3800*random.triangular(0.5,0.75,1.0,1)[0]\n",
        "    #payoff1:Rick goes to Glou and Morty goes to Rock\n",
        "    p1=(glouPrice*rick+rockPrice*morty)-14400\n",
        "    #payoff2:Rick goes to Rock and Morty goes to Glou\n",
        "    p2=(glouPrice*morty+rockPrice*rick)-14400\n",
        "    #payoff3:Rick and Morty go to Glou\n",
        "    p3=(glouPrice*min(DGlou,morty+rick))-14400\n",
        "    #payoff4: Rick and Morty go to Rock.\n",
        "    p4=(rockPrice*min(DRock,morty+rick))-14400\n",
        "    P1.append(p1)\n",
        "    P2.append(p2)\n",
        "    P3.append(p3)\n",
        "    P4.append(p4)\n",
        "  #結束後存放mean(順便把CVAR算了)\n",
        "  P1F.append(mean(P1))\n",
        "  Cvar1.append(np.quantile(P1,0.05))\n",
        "  P2F.append(mean(P2))\n",
        "  Cvar2.append(np.quantile(P2,0.05))\n",
        "  P3F.append(mean(P3))\n",
        "  Cvar3.append(np.quantile(P3,0.05))\n",
        "  P4F.append(mean(P4))\n",
        "  Cvar4.append(np.quantile(P4,0.05))\n",
        "  #存放當時的correlation\n",
        "  C.append(c)\n",
        "plt.plot(C,P1F,label=\"p1\",linestyle=\"-\")\n",
        "plt.plot(C,P2F,label=\"p2\",linestyle=\"--\")\n",
        "plt.plot(C,P3F,label=\"p3\",linestyle=\"-.\")\n",
        "plt.plot(C,P4F,label=\"p4\",linestyle=\":\")\n",
        "plt.legend()\n",
        "plt.show()"
      ],
      "metadata": {
        "colab": {
          "base_uri": "https://localhost:8080/",
          "height": 265
        },
        "id": "cMFca3UKntsY",
        "outputId": "98808a34-bf6a-4418-ecf8-30e15cc3b0d5"
      },
      "execution_count": null,
      "outputs": [
        {
          "output_type": "display_data",
          "data": {
            "text/plain": [
              "<Figure size 432x288 with 1 Axes>"
            ],
            "image/png": "[encoded data removed]"
          },
          "metadata": {
            "needs_background": "light"
          }
        }
      ]
    },
    {
      "cell_type": "markdown",
      "source": [
        "'(2) Show a figure where the y-axis is CVAR(5%) and x-axis is corr(PriceGlou, PriceRock). For \n",
        "each of the following values in the x-axis: -0.8, -0.6, -0.4, -0.2, 0, 0.2, 0.4, 0.6, and 0.8, \n",
        "simulate 10,000 runs respectively. Compute the payoff of the four strategies and plot their \n",
        "CVAR(5%) values. The figure should exhibit four lines (in different colors and types)."
      ],
      "metadata": {
        "id": "lvrCjSX_xFC6"
      }
    },
    {
      "cell_type": "code",
      "source": [
        "plt.plot(C,Cvar1,label=\"p1\",linestyle=\"-\")\n",
        "plt.plot(C,Cvar2,label=\"p2\",linestyle=\"--\")\n",
        "plt.plot(C,Cvar3,label=\"p3\",linestyle=\"-.\")\n",
        "plt.plot(C,Cvar4,label=\"p4\",linestyle=\":\")\n",
        "plt.legend()\n",
        "plt.show()"
      ],
      "metadata": {
        "id": "ky2xxeENxGuo",
        "colab": {
          "base_uri": "https://localhost:8080/",
          "height": 265
        },
        "outputId": "d6341421-b73f-40e0-cd7a-0b7f93c82f05"
      },
      "execution_count": null,
      "outputs": [
        {
          "output_type": "display_data",
          "data": {
            "text/plain": [
              "<Figure size 432x288 with 1 Axes>"
            ],
            "image/png": "[encoded data removed]"
          },
          "metadata": {
            "needs_background": "light"
          }
        }
      ]
    },
    {
      "cell_type": "markdown",
      "source": [
        "**(C)Provide a succinct and logical discussion about findings in the two figures above. Also, \n",
        "explain what kind of selling strategies you would recommend the CEO to adopt**"
      ],
      "metadata": {
        "id": "wH-ODW3EAS3G"
      }
    },
    {
      "cell_type": "markdown",
      "source": [
        "Findings:待補。\n",
        "Selling strategies:P4,it has the highest Cvar and a pretty decent payoff."
      ],
      "metadata": {
        "id": "aaZG7NvwBUah"
      }
    },
    {
      "cell_type": "markdown",
      "source": [
        "**Q4 (20%) Suppose you have successfully built a start-up and are looking to sell your \n",
        "business for early retirement. \n",
        "The maximum value each potential acquirer (a) is willing to \n",
        "pay is an independently and normally distributed RV Xa~Normal(μ=$3,000,000, σ=350,000)**\n",
        "\n",
        "\n",
        "(1) If you can get two potential acquirers bidding against one another, how much money do \n",
        "you expect to receive by selling the firm?"
      ],
      "metadata": {
        "id": "Crvpv3n29Fqs"
      }
    },
    {
      "cell_type": "code",
      "source": [
        "S=1000\n",
        "exp=0\n",
        "for s in range(S):\n",
        "  aq1=random.normal(loc=3000000, scale=350000, size=2)\n",
        "  aqFinal=max(aq1)\n",
        "  exp+=aqFinal\n",
        "finalexp2=exp/S\n",
        "print(finalexp2)"
      ],
      "metadata": {
        "colab": {
          "base_uri": "https://localhost:8080/"
        },
        "id": "11znLj5f88nL",
        "outputId": "97d21e0e-94f1-4da2-d16d-e93e6e80bb26"
      },
      "execution_count": null,
      "outputs": [
        {
          "output_type": "stream",
          "name": "stdout",
          "text": [
            "3196754.805949485\n"
          ]
        }
      ]
    },
    {
      "cell_type": "markdown",
      "source": [
        "(2)How much more would you expect to get if you can find a third bidder?"
      ],
      "metadata": {
        "id": "QMGmAMzyAyuP"
      }
    },
    {
      "cell_type": "code",
      "source": [
        "S2=1000\n",
        "exp=0\n",
        "for s2 in range(S2):\n",
        "  aq1=random.normal(loc=3000000, scale=350000, size=3)\n",
        "  aqFinal=max(aq1)\n",
        "  exp+=aqFinal\n",
        "finalexp3=exp/S2\n",
        "print(finalexp3)\n",
        "print(finalexp3-finalexp2)"
      ],
      "metadata": {
        "colab": {
          "base_uri": "https://localhost:8080/"
        },
        "id": "t-FlLEUeA9Bu",
        "outputId": "bf45d653-f103-4bff-9fc3-47ce7078de02"
      },
      "execution_count": null,
      "outputs": [
        {
          "output_type": "stream",
          "name": "stdout",
          "text": [
            "3283607.1184380646\n",
            "86852.31248857966\n"
          ]
        }
      ]
    },
    {
      "cell_type": "markdown",
      "source": [
        "(3) How much money do you expect to get if you can find 10 competitors to bid for your firm? \n",
        "What have you observed from simulation results? Can you provide logical explanations \n",
        "for the observed outcomes/patterns?"
      ],
      "metadata": {
        "id": "SeA8Fn8qB7O8"
      }
    },
    {
      "cell_type": "code",
      "source": [
        "S3=1000\n",
        "exp=0\n",
        "for s3 in range(S3):\n",
        "  aq3=random.normal(loc=3000000, scale=350000, size=10)\n",
        "  aqFinal=max(aq3)\n",
        "  exp+=aqFinal\n",
        "finalexp10=exp/S3\n",
        "print(finalexp10)"
      ],
      "metadata": {
        "colab": {
          "base_uri": "https://localhost:8080/"
        },
        "id": "VjFaKts1C6MC",
        "outputId": "85bda2c4-b17c-4443-c844-4ff66498e103"
      },
      "execution_count": null,
      "outputs": [
        {
          "output_type": "stream",
          "name": "stdout",
          "text": [
            "3531447.2160871523\n"
          ]
        }
      ]
    },
    {
      "cell_type": "markdown",
      "source": [
        "simulation results:越多競爭者答案會變大-因為更容易出現離群的較大值被選擇的情況"
      ],
      "metadata": {
        "id": "7qCqv2zSHyVn"
      }
    }
  ]
}